{
 "cells": [
  {
   "cell_type": "code",
   "execution_count": 1,
   "metadata": {
    "collapsed": true
   },
   "outputs": [],
   "source": [
    "import pickle\n",
    "import pandas as pd\n",
    "import re"
   ]
  },
  {
   "cell_type": "code",
   "execution_count": 2,
   "metadata": {
    "collapsed": true
   },
   "outputs": [],
   "source": [
    "with open('data/data.pickle', 'rb') as f:\n",
    "    artists_data = pickle.load(f)"
   ]
  },
  {
   "cell_type": "code",
   "execution_count": 3,
   "metadata": {
    "collapsed": true
   },
   "outputs": [],
   "source": [
    "cities_df = pd.read_csv('data/cities.csv', sep=',', encoding='utf-8')\n",
    "cities_df['Население'] = cities_df['Население'].map(lambda x: x.replace('[', '').replace(']', ''))\n",
    "cities_df['Население'] = cities_df['Население'].astype(int)\n",
    "cities_df = cities_df.sort_values(by='Население', ascending=False)\n",
    "cities_df['Город'] = cities_df['Город'].fillna(cities_df['Регион'])"
   ]
  },
  {
   "cell_type": "code",
   "execution_count": 4,
   "metadata": {
    "collapsed": true
   },
   "outputs": [],
   "source": [
    "cities = list(cities_df['Город'])"
   ]
  },
  {
   "cell_type": "code",
   "execution_count": 5,
   "metadata": {
    "collapsed": true
   },
   "outputs": [],
   "source": [
    "with open('data/translit_dict.pickle', 'rb') as f:\n",
    "    translit_dict = pickle.load(f)"
   ]
  },
  {
   "cell_type": "code",
   "execution_count": 6,
   "metadata": {
    "collapsed": true
   },
   "outputs": [],
   "source": [
    "def parse_exhibitions(exh):\n",
    "    exh = exh.replace('\\r\\n\\t', '\\n').replace('\\r\\n', '\\n').split('\\n')\n",
    "    res = []\n",
    "    year = None\n",
    "    for elem in exh:\n",
    "        now_dict = dict()\n",
    "        elem = elem.strip()\n",
    "        if len(elem) == 4:\n",
    "            year = elem\n",
    "        elif len(elem) > 10:\n",
    "            if elem[:4].isdigit() and int(elem[:4]) > 1950:\n",
    "                year = elem[:4]\n",
    "                elem = elem[4:].lstrip(' - ')\n",
    "            now_dict['place'] = elem\n",
    "            now_dict['year'] = year\n",
    "            res.append(now_dict)\n",
    "    return res"
   ]
  },
  {
   "cell_type": "code",
   "execution_count": 7,
   "metadata": {
    "collapsed": true
   },
   "outputs": [],
   "source": [
    "col_cnt = 0\n",
    "pers_cnt = 0\n",
    "ok_cnt = 0\n",
    "for i, artist in enumerate(artists_data):\n",
    "    personal_exh = artist['personal_exh']\n",
    "    collective_exh = artist['collective_exh']\n",
    "    if personal_exh is not None:\n",
    "        artist['personal_exh'] = parse_exhibitions(personal_exh)\n",
    "    if collective_exh is not None:\n",
    "        artist['collective_exh'] = parse_exhibitions(collective_exh)"
   ]
  },
  {
   "cell_type": "code",
   "execution_count": 8,
   "metadata": {
    "collapsed": true
   },
   "outputs": [],
   "source": [
    "n_vertex = len(artists_data)"
   ]
  },
  {
   "cell_type": "code",
   "execution_count": 9,
   "metadata": {
    "collapsed": true
   },
   "outputs": [],
   "source": [
    "def make_exh_graph(artists_data):\n",
    "    exhibition_graph = [[0 for i in range(n_vertex)] for j in range(n_vertex)]\n",
    "    n_edges = 0\n",
    "    for i, artist in enumerate(artists_data):\n",
    "        if artist['collective_exh'] is None:\n",
    "            continue\n",
    "        for j, artist_2 in enumerate(artists_data):\n",
    "            if artist_2['collective_exh'] is None:\n",
    "                continue\n",
    "            for exh in artist['collective_exh']:\n",
    "                if exh in artist_2['collective_exh'] and i != j:\n",
    "                    exhibition_graph[i][j] = 1\n",
    "                    n_edges += 1\n",
    "                    break\n",
    "    return exhibition_graph, n_edges"
   ]
  },
  {
   "cell_type": "code",
   "execution_count": 10,
   "metadata": {
    "collapsed": true
   },
   "outputs": [],
   "source": [
    "def find_rus_city(string, cities, translit_dict):\n",
    "    for city in cities:\n",
    "        if city in string:\n",
    "            idx = string.rfind(city)\n",
    "            string = string.replace('г.', '', idx - 2)\n",
    "            string = string.replace(';', '', idx)\n",
    "            return 1, string[:string.rfind(city)].strip('/, '), city.strip(), 'Россия'\n",
    "    for city in translit_dict:\n",
    "        if city in string:\n",
    "            idx = string.rfind(city)\n",
    "            string = string.replace('г.', '', idx - 2)\n",
    "            string = string.replace(';', '', idx)\n",
    "            return 1, string[:string.rfind(city)].strip('/, '), translit_dict[city], 'Россия'\n",
    "    return 0, '', '', ''"
   ]
  },
  {
   "cell_type": "code",
   "execution_count": 11,
   "metadata": {
    "collapsed": true
   },
   "outputs": [],
   "source": [
    "gallery_seq = [\"artplay\", \"centre\", \"center\", \"dome\", \"electromuseum\", \"foundation\", \"gallery\", \"galerie\", \"hall\", \"land-art\", \"l’institut\", 'mmoma',\n",
    "               \"open-air\", \"stella\", \"vglaz\", \"vladey space\",\n",
    "               \"академия\", \"армянский\", \"арт-проект\", \"агенство\",\n",
    "               \"библиотека\", \"бульвар\", \"бутик\", \n",
    "               \"варочный цех\", \"вднх\", \"винзавод\", \"выставка достижений\", \n",
    "               \"газгалерея\", \"галерея\", \"гараж\", \"гмии\", \"гостиница\", \"граунд\", \"гцси\", \"грузинская\", \"гуслица\",\n",
    "               \"даче\", \"двор\", \"дворец\", \"деревня\", \"дк\", \"дом\", \"дома гоголя\", \n",
    "               \"зал\", \"замок\", \"зоопарк\", \"издательство\", \"институт\", \n",
    "               \"кадетский корпус\", \"калистово\", \"кафе\", \"клуб\", \"коллегия\", \"красный октябрь\", \n",
    "               \"крепость\", \"крокус\", \"кузнецкий мост\", \"культпроект\", \"комплекс\", \"кинотеатр\",\n",
    "               \"лаборатория\", \"лес\", \"лофт\", \"ул.\", \n",
    "               \"магазин\", \"малая грузинская\", \"мамм\", \"манеж\", \"мастерская\", \"мгу\", \"министерство\", \"ммома\",\n",
    "               \"ммси\", \"мси\", \"музей\", 'музеи', \n",
    "               \"новая голландия\", \"новый архив\", \"огород\", \"особняк\",\n",
    "               \"отделение\", \"отель\", \"павильон\", \"палаты\", 'пассаж', \"парк\", \"планетарий\", \"площадь\", \n",
    "               \"покровка\", \"посольство\", \"поварская\", \"паибни\", \"пустырь\", \n",
    "               \"ресторан\", \"рюмочная\", \"росфото\", \n",
    "               \"сандуновских бань\", \"село\", \"сколково\", \"сокольники\", \n",
    "               \"союз художников\", \"столовая\", \"студия\", \"театр\", \"территория\", \"ударник\", \"университет\", \"училище\",\n",
    "               \"фабрика\", \"филармония\", \"филиал\", \"фонд\", \"фотопроект\", \"фотоцентр\",\n",
    "               \"форпост\", \"цдх\", \"центр\",\n",
    "               \"цех\", \"цси\", \"школа\", \"шувалово\", \"экспоцентр\", \"эрмитаж\", \"х.л.а.м\", \n",
    "              ] + [' ' + str(i) + ' ' for i in range(5, 50)]"
   ]
  },
  {
   "cell_type": "code",
   "execution_count": 12,
   "metadata": {
    "collapsed": true
   },
   "outputs": [],
   "source": [
    "def find_names(pref, gallery_seq):\n",
    "    museum = ''\n",
    "    name_exh = ''\n",
    "    for elem in pref.split(','):\n",
    "        for word in gallery_seq:\n",
    "            if re.search(r'\\b' + word + r'\\b', elem.lower()) and 'экспозиция' not in elem.lower():\n",
    "                museum += elem + ', '\n",
    "                break\n",
    "        if len(museum) == 0:\n",
    "            name_exh += elem + ', '\n",
    "    name_exh = name_exh.strip(' ,')\n",
    "    museum = museum.strip(' ,')\n",
    "    return name_exh, museum"
   ]
  },
  {
   "cell_type": "code",
   "execution_count": 13,
   "metadata": {
    "collapsed": true
   },
   "outputs": [],
   "source": [
    "def exh_parser(place):\n",
    "    museum, name_exh = '', ''\n",
    "    status, pref, city, country = find_rus_city(place, cities, translit_dict)\n",
    "    if status == 0:\n",
    "        return 0, '', '', '', ''\n",
    "    \n",
    "    pref = pref.replace('”', '»').replace('“', '«')\n",
    "    \n",
    "    first_quote = pref.find('»')\n",
    "    if first_quote != -1 and first_quote < len(pref) * 2 / 3:\n",
    "        if pref[first_quote + 1] != ',':\n",
    "            pref = pref[:first_quote + 1] + ', ' + pref[first_quote + 1:].strip()\n",
    "    \n",
    "    if pref.count(',') == 1:\n",
    "        name_exh, museum = pref.split(',')\n",
    "    elif pref.count(',') == 0:\n",
    "        pref = pref.replace('.', ',')\n",
    "        name_exh, museum = find_names(pref, gallery_seq)\n",
    "    else:\n",
    "        name_exh, museum = find_names(pref, gallery_seq)\n",
    "    return 1, name_exh, museum, city, country           "
   ]
  },
  {
   "cell_type": "code",
   "execution_count": 14,
   "metadata": {
    "collapsed": true
   },
   "outputs": [],
   "source": [
    "def parse_foreign(place):\n",
    "    status, name_exh, museum, city, country = 1, '', '', '', ''\n",
    "    if place.count(',') == 3:\n",
    "        name_exh, museum, city, country = place.split(',')\n",
    "    elif place.count(',') == 2:\n",
    "        name_exh, city, country = place.split(',')\n",
    "        museum = ''\n",
    "    elif place.count('»,') == 1:\n",
    "        name_exh, location = place.split('»,')\n",
    "        name_exh += '»'\n",
    "        if location.count(',') == 2:\n",
    "            museum, city, country = location.split(',')\n",
    "        elif location.count(',') == 1:\n",
    "            city, country = location.split(',')\n",
    "            museum = ''\n",
    "        else:\n",
    "            status = 0\n",
    "    else:\n",
    "        status = 0\n",
    "    return status, name_exh.strip(), museum.strip(), city.strip(), country.strip()"
   ]
  },
  {
   "cell_type": "code",
   "execution_count": 15,
   "metadata": {},
   "outputs": [],
   "source": [
    "from collections import defaultdict\n",
    "cnt = 0\n",
    "museums_dict = defaultdict(set)\n",
    "quotes_beg = r'[”»]'\n",
    "quotes_fin = r'[“]'\n",
    "for artist in artists_data:\n",
    "    if artist['collective_exh'] is None:\n",
    "        artist['collective_exh'] = []\n",
    "    if artist['personal_exh'] is None:\n",
    "        artist['personal_exh'] = []\n",
    "    for exh in artist['collective_exh']  + artist['personal_exh']:\n",
    "        place = exh['place'].replace('\\r\\n', ' ')\n",
    "        exh['place'] = place\n",
    "        status, name_exh, museum, city, country = exh_parser(place)\n",
    "        if not status:\n",
    "            status, name_exh, museum, city, country = parse_foreign(place)\n",
    "            if not status:\n",
    "                continue\n",
    "        if museum != '':\n",
    "            museums_dict[city].add(museum.strip())\n",
    "        exh['museum'] = museum\n",
    "        exh['name'] = name_exh\n",
    "        exh['city'] = city\n",
    "        exh['country'] = country"
   ]
  },
  {
   "cell_type": "code",
   "execution_count": 16,
   "metadata": {
    "collapsed": true
   },
   "outputs": [],
   "source": [
    "with open('data/museums.pickle', 'wb') as f:\n",
    "    pickle.dump(museums_dict, f)"
   ]
  },
  {
   "cell_type": "code",
   "execution_count": 17,
   "metadata": {
    "collapsed": true
   },
   "outputs": [],
   "source": [
    "artists_data = list(filter(lambda x: len(x['collective_exh']  + x['personal_exh']) > 0, artists_data))\n",
    "with open('data/all_artists_data.pickle', 'wb') as f:\n",
    "    pickle.dump(artists_data, f)"
   ]
  },
  {
   "cell_type": "code",
   "execution_count": 18,
   "metadata": {},
   "outputs": [],
   "source": [
    "from copy import deepcopy\n",
    "\n",
    "rus_artists_data = []\n",
    "for artist in artists_data:\n",
    "    a = deepcopy(artist)\n",
    "    a['collective_exh'] = list(filter(lambda x: 0 if 'country' not in x else x['country'] == 'Россия', a['collective_exh']))\n",
    "    a['personal_exh'] = list(filter(lambda x: 0 if 'country' not in x else x['country'] == 'Россия', a['personal_exh']))\n",
    "    rus_artists_data.append(a)"
   ]
  },
  {
   "cell_type": "code",
   "execution_count": 19,
   "metadata": {},
   "outputs": [],
   "source": [
    "rus_artists_data = list(filter(lambda x: len(x['collective_exh']  + x['personal_exh']) > 0, rus_artists_data))\n",
    "with open('data/rus_artists_data.pickle', 'wb') as f:\n",
    "    pickle.dump(rus_artists_data, f)"
   ]
  },
  {
   "cell_type": "code",
   "execution_count": null,
   "metadata": {
    "collapsed": true
   },
   "outputs": [],
   "source": []
  }
 ],
 "metadata": {
  "kernelspec": {
   "display_name": "Python 3",
   "language": "python",
   "name": "python3"
  },
  "language_info": {
   "codemirror_mode": {
    "name": "ipython",
    "version": 3
   },
   "file_extension": ".py",
   "mimetype": "text/x-python",
   "name": "python",
   "nbconvert_exporter": "python",
   "pygments_lexer": "ipython3",
   "version": "3.6.8"
  }
 },
 "nbformat": 4,
 "nbformat_minor": 2
}

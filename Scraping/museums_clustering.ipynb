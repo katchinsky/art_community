{
 "cells": [
  {
   "cell_type": "code",
   "execution_count": 123,
   "metadata": {
    "collapsed": true
   },
   "outputs": [],
   "source": [
    "import pickle\n",
    "import pandas as pd\n",
    "import numpy as np\n",
    "from sklearn.cluster import KMeans, DBSCAN\n",
    "from sklearn.feature_extraction.text import TfidfVectorizer\n",
    "from sklearn.pipeline import Pipeline\n",
    "from collections import defaultdict"
   ]
  },
  {
   "cell_type": "code",
   "execution_count": 294,
   "metadata": {
    "collapsed": true
   },
   "outputs": [],
   "source": [
    "with open('data/museums.pickle', 'rb') as f:\n",
    "    museums_dict = pickle.load(f)"
   ]
  },
  {
   "cell_type": "code",
   "execution_count": 225,
   "metadata": {
    "collapsed": true
   },
   "outputs": [],
   "source": [
    "def preproc_museums(string):\n",
    "    string = string.strip(' .-').replace('\\u200b', '').replace('\\xa0', '')\n",
    "    quotes = list('”»“«\"()')\n",
    "    for quote in quotes:\n",
    "        string = string.replace(quote, '')\n",
    "    return string.lower()"
   ]
  },
  {
   "cell_type": "code",
   "execution_count": 280,
   "metadata": {},
   "outputs": [],
   "source": [
    "museums = museums_dict['Москва']\n",
    "museums = np.array(list(set(list(map(preproc_museums, museums)))))\n",
    "museums = museums[museums != '']\n",
    "all_museums = museums"
   ]
  },
  {
   "cell_type": "code",
   "execution_count": 282,
   "metadata": {
    "collapsed": true
   },
   "outputs": [],
   "source": []
  },
  {
   "cell_type": "code",
   "execution_count": 283,
   "metadata": {
    "collapsed": true
   },
   "outputs": [],
   "source": [
    "def gen_params():\n",
    "    eps_list = [i / 10 for i in range(5, 16)]\n",
    "    n_samples = (6, 5, 4, 4, 3, 3, 2, 2)\n",
    "    for eps in eps_list:\n",
    "        for n in n_samples:\n",
    "            yield eps, n"
   ]
  },
  {
   "cell_type": "code",
   "execution_count": 284,
   "metadata": {
    "collapsed": true
   },
   "outputs": [],
   "source": []
  },
  {
   "cell_type": "code",
   "execution_count": 320,
   "metadata": {
    "scrolled": false
   },
   "outputs": [],
   "source": [
    "def clustering(all_museums, debug=True):\n",
    "    db_pipeline = Pipeline(steps=[\n",
    "        ('tfidf', TfidfVectorizer(ngram_range=(1, 2), max_df=0.9)),\n",
    "        ('dbscan', DBSCAN(eps=0.5, min_samples=2))\n",
    "    ])\n",
    "    museums = all_museums\n",
    "    cluster_dict = dict()\n",
    "    mask = np.zeros(museums.shape[0], dtype=bool)\n",
    "    generator = gen_params()\n",
    "    while len(museums) > len(all_museums) * 2 / 10:\n",
    "        museums = museums[~mask]\n",
    "        mask = np.zeros(museums.shape[0], dtype=bool)\n",
    "        db_pred = db_pipeline.fit_predict(museums)\n",
    "        db_clusters = len(np.unique(db_pred))\n",
    "        clustered = db_pred != -1\n",
    "        mask[clustered] = True\n",
    "        for j in range(db_clusters - 1): \n",
    "            if debug:\n",
    "                print(j, ' __________________________\\n', sep='')\n",
    "                print(museums[db_pred == j])\n",
    "            idx = np.argmin([len(elem) for elem in museums[db_pred == j]])\n",
    "            cluster_dict[museums[db_pred == j][idx]] = list(museums[db_pred == j])\n",
    "        eps, min_samples = next(generator)\n",
    "\n",
    "        db_pipeline.steps[1] = ('dbscan', DBSCAN(eps=eps, min_samples=min_samples))\n",
    "\n",
    "    for museum in museums:\n",
    "        cluster_dict[museum] = museum\n",
    "    return cluster_dict"
   ]
  },
  {
   "cell_type": "code",
   "execution_count": 324,
   "metadata": {
    "collapsed": true
   },
   "outputs": [],
   "source": [
    "def make_reverse_dict(cluster_dict, city):\n",
    "    reverse_dict = dict()\n",
    "    for key in cluster_dict:\n",
    "        for elem in cluster_dict[key]:\n",
    "            reverse_dict[(elem, city)] = key\n",
    "            if 'винзавод' in key:\n",
    "                reverse_dict[elem] = 'винзавод'\n",
    "    return reverse_dict"
   ]
  },
  {
   "cell_type": "code",
   "execution_count": 332,
   "metadata": {},
   "outputs": [],
   "source": [
    "museums_msk = museums_dict['Москва']\n",
    "museums_msk = np.array(list(set(list(map(preproc_museums, museums_msk)))))\n",
    "museums_msk = museums_msk[museums_msk != '']\n",
    "\n",
    "museums_spb = museums_dict['Санкт-Петербург']\n",
    "museums_spb = np.array(list(set(list(map(preproc_museums, museums_spb)))))\n",
    "museums_spb = museums_spb[museums_spb != '']\n",
    "\n",
    "reverse_dict_msk = make_reverse_dict(clustering(museums_msk, debug=False), 'Москва')\n",
    "reverse_dict_spb = make_reverse_dict(clustering(museums_spb, debug=False), 'Санкт-Петербург')\n",
    "reverse_dict = {**reverse_dict_msk, **reverse_dict_spb}"
   ]
  },
  {
   "cell_type": "code",
   "execution_count": 306,
   "metadata": {},
   "outputs": [],
   "source": [
    "with open('data/reverse_museums_dict.pickle', 'wb') as f:\n",
    "    pickle.dump(reverse_dict, f)"
   ]
  },
  {
   "cell_type": "code",
   "execution_count": 307,
   "metadata": {
    "collapsed": true
   },
   "outputs": [],
   "source": [
    "with open('data/artists_data.pickle', 'rb') as f:\n",
    "    artists_data = pickle.load(f)"
   ]
  },
  {
   "cell_type": "code",
   "execution_count": 334,
   "metadata": {},
   "outputs": [],
   "source": [
    "for artist in artists_data:\n",
    "    if artist['collective_exh'] is not None:\n",
    "        for exh in artist['collective_exh']:\n",
    "            if 'city' not in exh:\n",
    "                continue\n",
    "            if exh['museum'] is not None:\n",
    "                tmp = (preproc_museums(exh['museum']), exh['city'])\n",
    "                if tmp in reverse_dict:\n",
    "                    exh['museum'] = reverse_dict[tmp]\n",
    "                else:\n",
    "                    exh['museum'] = ''\n",
    "    if artist['personal_exh'] is not None:\n",
    "        for exh in artist['personal_exh']:\n",
    "            if 'city' not in exh:\n",
    "                continue\n",
    "            if exh['museum'] is not None:\n",
    "                tmp = (preproc_museums(exh['museum']), exh['city'])\n",
    "                if tmp in reverse_dict:\n",
    "                    exh['museum'] = reverse_dict[tmp]\n",
    "                else:\n",
    "                    exh['museum'] = ''"
   ]
  },
  {
   "cell_type": "code",
   "execution_count": null,
   "metadata": {
    "collapsed": true
   },
   "outputs": [],
   "source": []
  }
 ],
 "metadata": {
  "kernelspec": {
   "display_name": "Python 3",
   "language": "python",
   "name": "python3"
  },
  "language_info": {
   "codemirror_mode": {
    "name": "ipython",
    "version": 3
   },
   "file_extension": ".py",
   "mimetype": "text/x-python",
   "name": "python",
   "nbconvert_exporter": "python",
   "pygments_lexer": "ipython3",
   "version": "3.6.8"
  }
 },
 "nbformat": 4,
 "nbformat_minor": 2
}

{
 "cells": [
  {
   "cell_type": "code",
   "execution_count": 2,
   "metadata": {},
   "outputs": [],
   "source": [
    "import pickle"
   ]
  },
  {
   "cell_type": "code",
   "execution_count": 27,
   "metadata": {
    "collapsed": true
   },
   "outputs": [],
   "source": [
    "with open('data.pickle', 'rb') as f:\n",
    "    artists_data = pickle.load(f)"
   ]
  },
  {
   "cell_type": "code",
   "execution_count": 28,
   "metadata": {
    "collapsed": true
   },
   "outputs": [],
   "source": [
    "def parse_exhibitions(exh):\n",
    "    res = []\n",
    "    year = None\n",
    "    for elem in exh:\n",
    "        now_dict = dict()\n",
    "        if len(elem.strip()) == 4:\n",
    "            year = elem.strip()\n",
    "        elif len(elem.strip()) > 10:\n",
    "            now_dict['place'] = elem.strip()\n",
    "            now_dict['year'] = year\n",
    "            res.append(now_dict)\n",
    "    return res"
   ]
  },
  {
   "cell_type": "code",
   "execution_count": 29,
   "metadata": {},
   "outputs": [],
   "source": [
    "col_cnt = 0\n",
    "pers_cnt = 0\n",
    "ok_cnt = 0\n",
    "for i, artist in enumerate(artists_data):\n",
    "    personal_exh = artist['personal_exh']\n",
    "    collective_exh = artist['collective_exh']\n",
    "    if personal_exh is not None:\n",
    "        artist['personal_exh'] = parse_exhibitions(personal_exh)\n",
    "    if collective_exh is not None:\n",
    "        artist['collective_exh'] = parse_exhibitions(collective_exh)"
   ]
  },
  {
   "cell_type": "code",
   "execution_count": 34,
   "metadata": {},
   "outputs": [],
   "source": [
    "exhibition_graph = [[0 for i in range(len(artists_data))] for j in range(len(artists_data))]"
   ]
  },
  {
   "cell_type": "code",
   "execution_count": 46,
   "metadata": {},
   "outputs": [],
   "source": [
    "cnt = 0\n",
    "for i, artist in enumerate(artists_data):\n",
    "    if artist['collective_exh'] is None:\n",
    "        continue\n",
    "    for j, artist_2 in enumerate(artists_data):\n",
    "        if artist_2['collective_exh'] is None:\n",
    "            continue\n",
    "        for exh in artist['collective_exh']:\n",
    "            if exh in artist_2['collective_exh'] and i != j:\n",
    "                exhibition_graph[i][j] = 1\n",
    "                cnt += 1\n",
    "                break"
   ]
  },
  {
   "cell_type": "code",
   "execution_count": 51,
   "metadata": {},
   "outputs": [
    {
     "data": {
      "text/plain": [
       "574564"
      ]
     },
     "execution_count": 51,
     "metadata": {},
     "output_type": "execute_result"
    }
   ],
   "source": []
  },
  {
   "cell_type": "code",
   "execution_count": null,
   "metadata": {
    "collapsed": true
   },
   "outputs": [],
   "source": []
  }
 ],
 "metadata": {
  "kernelspec": {
   "display_name": "Python 3",
   "language": "python",
   "name": "python3"
  },
  "language_info": {
   "codemirror_mode": {
    "name": "ipython",
    "version": 3
   },
   "file_extension": ".py",
   "mimetype": "text/x-python",
   "name": "python",
   "nbconvert_exporter": "python",
   "pygments_lexer": "ipython3",
   "version": "3.6.8"
  }
 },
 "nbformat": 4,
 "nbformat_minor": 2
}
